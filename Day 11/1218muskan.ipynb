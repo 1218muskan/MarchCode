{
 "cells": [
  {
   "cell_type": "code",
   "execution_count": 2,
   "metadata": {},
   "outputs": [
    {
     "name": "stdout",
     "output_type": "stream",
     "text": [
      "enter two numbers: 7 11\n",
      "LCM of 7 and 11 is: 77\n"
     ]
    }
   ],
   "source": [
    "## Day 11\n",
    "\n",
    "a,b=input(\"enter two numbers: \").split()\n",
    "a=int(a)\n",
    "b=int(b)\n",
    "maxm=max(a,b)\n",
    "\n",
    "for i in range(maxm,a*b+1):\n",
    "    if(i%a==0 and i%b==0):\n",
    "        print(\"LCM of\",a,'and',b,'is:',i)\n",
    "        break"
   ]
  },
  {
   "cell_type": "code",
   "execution_count": null,
   "metadata": {},
   "outputs": [],
   "source": []
  }
 ],
 "metadata": {
  "kernelspec": {
   "display_name": "Python 3",
   "language": "python",
   "name": "python3"
  },
  "language_info": {
   "codemirror_mode": {
    "name": "ipython",
    "version": 3
   },
   "file_extension": ".py",
   "mimetype": "text/x-python",
   "name": "python",
   "nbconvert_exporter": "python",
   "pygments_lexer": "ipython3",
   "version": "3.8.5"
  }
 },
 "nbformat": 4,
 "nbformat_minor": 4
}
