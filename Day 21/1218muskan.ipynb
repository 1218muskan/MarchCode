{
 "cells": [
  {
   "cell_type": "code",
   "execution_count": 7,
   "metadata": {},
   "outputs": [
    {
     "name": "stdout",
     "output_type": "stream",
     "text": [
      "enter the no. of lines to be printed: 5\n",
      "A  \n",
      "B  C  \n",
      "D  E  F  \n",
      "G  H  I  J  \n",
      "K  L  M  N  O  \n"
     ]
    }
   ],
   "source": [
    "# day 21\n",
    "\n",
    "st=ascii_uppercase\n",
    "n=int(input(\"enter the no. of lines to be printed: \"))\n",
    "k=0\n",
    "for i in range(n):\n",
    "    for j in range(0,i+1):\n",
    "        print(st[k],end=\"  \")\n",
    "        k=k+1\n",
    "    print()"
   ]
  },
  {
   "cell_type": "code",
   "execution_count": null,
   "metadata": {},
   "outputs": [],
   "source": []
  }
 ],
 "metadata": {
  "kernelspec": {
   "display_name": "Python 3",
   "language": "python",
   "name": "python3"
  },
  "language_info": {
   "codemirror_mode": {
    "name": "ipython",
    "version": 3
   },
   "file_extension": ".py",
   "mimetype": "text/x-python",
   "name": "python",
   "nbconvert_exporter": "python",
   "pygments_lexer": "ipython3",
   "version": "3.8.5"
  }
 },
 "nbformat": 4,
 "nbformat_minor": 4
}
