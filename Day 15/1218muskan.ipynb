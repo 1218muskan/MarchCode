{
 "cells": [
  {
   "cell_type": "code",
   "execution_count": 2,
   "metadata": {},
   "outputs": [],
   "source": [
    "# Day 15\n",
    "\n",
    "def factorial(a):\n",
    "    prod=1\n",
    "    for i in range(1,a+1):\n",
    "        prod=prod*i\n",
    "\n",
    "    return prod"
   ]
  },
  {
   "cell_type": "code",
   "execution_count": 3,
   "metadata": {},
   "outputs": [
    {
     "name": "stdout",
     "output_type": "stream",
     "text": [
      "enter any number: 145\n",
      "145 is a strong number\n"
     ]
    }
   ],
   "source": [
    "sum=0\n",
    "num=int(input(\"enter any number: \"))\n",
    "save=num\n",
    "while(num!=0):\n",
    "    r=num%10\n",
    "    sum = sum +factorial(r)\n",
    "    num=num//10;\n",
    "\n",
    "if(save==sum):\n",
    "    print(save,\"is a strong number\")\n",
    "else:\n",
    "    print(save,\"is not a strong number\")"
   ]
  },
  {
   "cell_type": "code",
   "execution_count": null,
   "metadata": {},
   "outputs": [],
   "source": []
  }
 ],
 "metadata": {
  "kernelspec": {
   "display_name": "Python 3",
   "language": "python",
   "name": "python3"
  },
  "language_info": {
   "codemirror_mode": {
    "name": "ipython",
    "version": 3
   },
   "file_extension": ".py",
   "mimetype": "text/x-python",
   "name": "python",
   "nbconvert_exporter": "python",
   "pygments_lexer": "ipython3",
   "version": "3.8.5"
  }
 },
 "nbformat": 4,
 "nbformat_minor": 4
}
