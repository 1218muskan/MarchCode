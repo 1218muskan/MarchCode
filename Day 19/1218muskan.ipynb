{
 "cells": [
  {
   "cell_type": "code",
   "execution_count": 1,
   "metadata": {},
   "outputs": [
    {
     "name": "stdout",
     "output_type": "stream",
     "text": [
      "Enter the size of matrix: 3 3\n",
      "Enter elements\n",
      "1\n",
      "2\n",
      "3\n",
      "4\n",
      "5\n",
      "6\n",
      "7\n",
      "8\n",
      "9\n",
      "The lower triangular matrix: \n",
      "1\t0\t0\t\n",
      "4\t5\t0\t\n",
      "7\t8\t9\t\n"
     ]
    }
   ],
   "source": [
    "# Day 19\n",
    "\n",
    "n,m=input(\"Enter the size of matrix: \").split()\n",
    "print(\"Enter elements\")\n",
    "\n",
    "mat=[]\n",
    "for i in range(int(n)):\n",
    "    sub_mat=[]\n",
    "    for j in range(int(m)):\n",
    "         ele=int(input())\n",
    "         sub_mat.append(ele)\n",
    "        \n",
    "    mat.append(sub_mat) \n",
    "    \n",
    "\n",
    "print(\"The lower triangular matrix: \")\n",
    "\n",
    "for i in range(int(n)):\n",
    "    for j in range(int(m)):\n",
    "        if(i>=j):\n",
    "            print(mat[i][j],end=\"\\t\")\n",
    "        else:\n",
    "            print(0,end=\"\\t\")\n",
    "    print()"
   ]
  },
  {
   "cell_type": "code",
   "execution_count": null,
   "metadata": {},
   "outputs": [],
   "source": []
  }
 ],
 "metadata": {
  "kernelspec": {
   "display_name": "Python 3",
   "language": "python",
   "name": "python3"
  },
  "language_info": {
   "codemirror_mode": {
    "name": "ipython",
    "version": 3
   },
   "file_extension": ".py",
   "mimetype": "text/x-python",
   "name": "python",
   "nbconvert_exporter": "python",
   "pygments_lexer": "ipython3",
   "version": "3.8.5"
  }
 },
 "nbformat": 4,
 "nbformat_minor": 4
}
