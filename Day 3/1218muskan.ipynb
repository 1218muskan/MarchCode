{
 "cells": [
  {
   "cell_type": "code",
   "execution_count": 3,
   "metadata": {},
   "outputs": [
    {
     "name": "stdout",
     "output_type": "stream",
     "text": [
      "enter any month number: 12\n",
      "there are 31 days in month 12\n"
     ]
    }
   ],
   "source": [
    "m=int(input(\"enter any month number: \"))\n",
    "if(m==2):\n",
    "    print(\"there are 28 days in 2nd month\")\n",
    "elif(m==1 or m==3 or m==5 or m==7 or m==8 or m==10 or m==12):\n",
    "    print(\"there are 31 days in month\",m)\n",
    "else:\n",
    "    print(\"there are 30 days in month\",m)"
   ]
  },
  {
   "cell_type": "code",
   "execution_count": null,
   "metadata": {},
   "outputs": [],
   "source": []
  }
 ],
 "metadata": {
  "kernelspec": {
   "display_name": "Python 3",
   "language": "python",
   "name": "python3"
  },
  "language_info": {
   "codemirror_mode": {
    "name": "ipython",
    "version": 3
   },
   "file_extension": ".py",
   "mimetype": "text/x-python",
   "name": "python",
   "nbconvert_exporter": "python",
   "pygments_lexer": "ipython3",
   "version": "3.8.5"
  }
 },
 "nbformat": 4,
 "nbformat_minor": 4
}
