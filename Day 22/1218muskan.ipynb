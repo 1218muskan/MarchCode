{
 "cells": [
  {
   "cell_type": "code",
   "execution_count": 3,
   "metadata": {},
   "outputs": [
    {
     "name": "stdout",
     "output_type": "stream",
     "text": [
      "enter the no. of elements in array: 6\n",
      "0\n",
      "91\n",
      "-4\n",
      "32\n",
      "71\n",
      "3\n",
      "Array:  [0, 91, -4, 32, 71, 3]\n",
      "maximum no. is 91\n",
      "minimum no. is -4\n"
     ]
    }
   ],
   "source": [
    "# Day 23\n",
    "\n",
    "arr=[]\n",
    "n=int(input(\"enter the no. of elements in array: \"))\n",
    "for i in range(n):\n",
    "    ele=int(input())\n",
    "    arr.append(ele)\n",
    "\n",
    "print(\"Array: \",arr)\n",
    "print(\"maximum no. is\",max(arr))\n",
    "print(\"minimum no. is\",min(arr))"
   ]
  },
  {
   "cell_type": "code",
   "execution_count": null,
   "metadata": {},
   "outputs": [],
   "source": []
  }
 ],
 "metadata": {
  "kernelspec": {
   "display_name": "Python 3",
   "language": "python",
   "name": "python3"
  },
  "language_info": {
   "codemirror_mode": {
    "name": "ipython",
    "version": 3
   },
   "file_extension": ".py",
   "mimetype": "text/x-python",
   "name": "python",
   "nbconvert_exporter": "python",
   "pygments_lexer": "ipython3",
   "version": "3.8.5"
  }
 },
 "nbformat": 4,
 "nbformat_minor": 4
}
