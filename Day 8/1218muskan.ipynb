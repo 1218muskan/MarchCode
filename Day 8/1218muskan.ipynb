{
 "cells": [
  {
   "cell_type": "code",
   "execution_count": 1,
   "metadata": {},
   "outputs": [
    {
     "name": "stdout",
     "output_type": "stream",
     "text": [
      "enter any number to find its factorial: 5\n",
      "factorial of 5 is: 120\n"
     ]
    }
   ],
   "source": [
    "# Day 8\n",
    "\n",
    "n=int(input(\"enter any number to find its factorial: \"))\n",
    "prod=1\n",
    "for i in range(1,n+1):\n",
    "    prod=prod*i\n",
    "    \n",
    "print(\"factorial of\",n,\"is:\",prod)"
   ]
  },
  {
   "cell_type": "code",
   "execution_count": null,
   "metadata": {},
   "outputs": [],
   "source": []
  }
 ],
 "metadata": {
  "kernelspec": {
   "display_name": "Python 3",
   "language": "python",
   "name": "python3"
  },
  "language_info": {
   "codemirror_mode": {
    "name": "ipython",
    "version": 3
   },
   "file_extension": ".py",
   "mimetype": "text/x-python",
   "name": "python",
   "nbconvert_exporter": "python",
   "pygments_lexer": "ipython3",
   "version": "3.8.5"
  }
 },
 "nbformat": 4,
 "nbformat_minor": 4
}
