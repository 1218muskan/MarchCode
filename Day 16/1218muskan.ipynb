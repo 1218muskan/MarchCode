{
 "cells": [
  {
   "cell_type": "code",
   "execution_count": 9,
   "metadata": {},
   "outputs": [
    {
     "name": "stdout",
     "output_type": "stream",
     "text": [
      "enter any number: 12321\n",
      "12321 is a pallindrome\n"
     ]
    }
   ],
   "source": [
    "# Day 16\n",
    "\n",
    "n=input(\"enter any number: \")\n",
    "flag=0\n",
    "i=0\n",
    "j=len(n)-1\n",
    "while(i<=j):\n",
    "    if(n[i]!=n[j]):\n",
    "        flag=1\n",
    "        break\n",
    "           \n",
    "    i=i+1\n",
    "    j=j-1\n",
    "    \n",
    "if(flag):\n",
    "    print(n,\"is not a pallindrome\")\n",
    "else:\n",
    "    print(n,\"is a pallindrome\")"
   ]
  },
  {
   "cell_type": "code",
   "execution_count": null,
   "metadata": {},
   "outputs": [],
   "source": []
  }
 ],
 "metadata": {
  "kernelspec": {
   "display_name": "Python 3",
   "language": "python",
   "name": "python3"
  },
  "language_info": {
   "codemirror_mode": {
    "name": "ipython",
    "version": 3
   },
   "file_extension": ".py",
   "mimetype": "text/x-python",
   "name": "python",
   "nbconvert_exporter": "python",
   "pygments_lexer": "ipython3",
   "version": "3.8.5"
  }
 },
 "nbformat": 4,
 "nbformat_minor": 4
}
