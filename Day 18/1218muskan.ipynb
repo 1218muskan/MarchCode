{
 "cells": [
  {
   "cell_type": "code",
   "execution_count": 10,
   "metadata": {},
   "outputs": [
    {
     "name": "stdout",
     "output_type": "stream",
     "text": [
      "Enter the size of matrix: 3 3\n",
      "Enter elements\n",
      "12\n",
      "89\n",
      "65\n",
      "12\n",
      "45\n",
      "09\n",
      "34\n",
      "22\n",
      "12\n",
      "The upper triangular matrix: \n",
      "12\t89\t65\t\n",
      "0\t45\t9\t\n",
      "0\t0\t12\t\n"
     ]
    }
   ],
   "source": [
    "# Day 18\n",
    "\n",
    "n,m=input(\"Enter the size of matrix: \").split()\n",
    "print(\"Enter elements\")\n",
    "\n",
    "mat=[]\n",
    "for i in range(int(n)):\n",
    "    sub_mat=[]\n",
    "    for j in range(int(m)):\n",
    "         ele=int(input())\n",
    "         sub_mat.append(ele)\n",
    "        \n",
    "    mat.append(sub_mat) \n",
    "    \n",
    "\n",
    "print(\"The upper triangular matrix: \")\n",
    "\n",
    "for i in range(int(n)):\n",
    "    for j in range(int(m)):\n",
    "        if(i<=j):\n",
    "            print(mat[i][j],end=\"\\t\")\n",
    "        else:\n",
    "            print(0,end=\"\\t\")\n",
    "    print()"
   ]
  },
  {
   "cell_type": "code",
   "execution_count": null,
   "metadata": {},
   "outputs": [],
   "source": []
  },
  {
   "cell_type": "code",
   "execution_count": null,
   "metadata": {},
   "outputs": [],
   "source": []
  }
 ],
 "metadata": {
  "kernelspec": {
   "display_name": "Python 3",
   "language": "python",
   "name": "python3"
  },
  "language_info": {
   "codemirror_mode": {
    "name": "ipython",
    "version": 3
   },
   "file_extension": ".py",
   "mimetype": "text/x-python",
   "name": "python",
   "nbconvert_exporter": "python",
   "pygments_lexer": "ipython3",
   "version": "3.8.5"
  }
 },
 "nbformat": 4,
 "nbformat_minor": 4
}
