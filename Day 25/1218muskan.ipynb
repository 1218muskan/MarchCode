{
 "cells": [
  {
   "cell_type": "code",
   "execution_count": 3,
   "metadata": {},
   "outputs": [],
   "source": [
    "def merge(a,b):\n",
    "    arr=[]\n",
    "    i=0\n",
    "    j=0\n",
    "    \n",
    "    while i<len(a) and j <len(b):\n",
    "        \n",
    "        if a[i] < b[j]:\n",
    "            arr.append(a[i])\n",
    "            i+=1\n",
    "            \n",
    "        else: \n",
    "            arr.append(b[j])\n",
    "            j+=1\n",
    "            \n",
    "    while i<len(a):\n",
    "            arr.append(a[i])\n",
    "            i+=1\n",
    "            \n",
    "    while j<len(b):\n",
    "            arr.append(b[j])\n",
    "            j+=1\n",
    "            \n",
    "    print(\"Merged Array: \",arr)"
   ]
  },
  {
   "cell_type": "code",
   "execution_count": 4,
   "metadata": {},
   "outputs": [
    {
     "name": "stdout",
     "output_type": "stream",
     "text": [
      "Array 1:  [1, 5, 9, 23, 90]\n",
      "Array 2:  [0, 14, 16, 20, 33, 54, 71, 100]\n",
      "Merged Array:  [0, 1, 5, 9, 14, 16, 20, 23, 33, 54, 71, 90, 100]\n"
     ]
    }
   ],
   "source": [
    "arr1=[1,5,9,23,90]\n",
    "arr2=[0,14,16,20,33,54,71,100]\n",
    "print(\"Array 1: \",arr1)\n",
    "print(\"Array 2: \",arr2)\n",
    "merge(arr1,arr2)"
   ]
  },
  {
   "cell_type": "code",
   "execution_count": null,
   "metadata": {},
   "outputs": [],
   "source": []
  }
 ],
 "metadata": {
  "kernelspec": {
   "display_name": "Python 3",
   "language": "python",
   "name": "python3"
  },
  "language_info": {
   "codemirror_mode": {
    "name": "ipython",
    "version": 3
   },
   "file_extension": ".py",
   "mimetype": "text/x-python",
   "name": "python",
   "nbconvert_exporter": "python",
   "pygments_lexer": "ipython3",
   "version": "3.8.5"
  }
 },
 "nbformat": 4,
 "nbformat_minor": 4
}
