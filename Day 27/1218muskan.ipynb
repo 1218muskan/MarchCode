{
 "cells": [
  {
   "cell_type": "code",
   "execution_count": 4,
   "metadata": {},
   "outputs": [
    {
     "name": "stdout",
     "output_type": "stream",
     "text": [
      "enter any number to find it's factorial: 5\n",
      "factorial of 5 is 120\n"
     ]
    }
   ],
   "source": [
    "# Day 27\n",
    "\n",
    "def factorial(n):  \n",
    "    if n == 1:  \n",
    "        return n  \n",
    "    else:  \n",
    "        return n*factorial(n-1)\n",
    "    \n",
    "n=int(input(\"enter any number to find it's factorial: \"))\n",
    "if(n<0):\n",
    "    print(\"factorial does not exists\")\n",
    "elif(n==0):\n",
    "    print(\"factorial of 0 is 1\")\n",
    "else:\n",
    "    print(\"factorial of\",n,\"is\",factorial(n))"
   ]
  },
  {
   "cell_type": "code",
   "execution_count": null,
   "metadata": {},
   "outputs": [],
   "source": []
  }
 ],
 "metadata": {
  "kernelspec": {
   "display_name": "Python 3",
   "language": "python",
   "name": "python3"
  },
  "language_info": {
   "codemirror_mode": {
    "name": "ipython",
    "version": 3
   },
   "file_extension": ".py",
   "mimetype": "text/x-python",
   "name": "python",
   "nbconvert_exporter": "python",
   "pygments_lexer": "ipython3",
   "version": "3.8.5"
  }
 },
 "nbformat": 4,
 "nbformat_minor": 4
}
