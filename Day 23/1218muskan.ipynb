{
 "cells": [
  {
   "cell_type": "code",
   "execution_count": 1,
   "metadata": {},
   "outputs": [
    {
     "name": "stdout",
     "output_type": "stream",
     "text": [
      "enter the no. of elements into array: 8\n",
      "input elements of array: \n",
      "1\n",
      "10\n",
      "3\n",
      "32\n",
      "7\n",
      "56\n",
      "20\n",
      "11\n",
      "Total even numbers are 4\n",
      "Total odd numbers are 4\n"
     ]
    }
   ],
   "source": [
    "# Day 23\n",
    "\n",
    "odd=0\n",
    "even=0\n",
    "arr=[]\n",
    "n=int(input(\"enter the no. of elements into array: \"))\n",
    "print(\"input elements of array: \")\n",
    "for i in range(n):\n",
    "    ele=int(input())\n",
    "    arr.append(ele)\n",
    "    if(ele%2==0):\n",
    "        even=even+1\n",
    "    else:\n",
    "        odd=odd+1\n",
    "        \n",
    "print(\"Total even numbers are\",even)\n",
    "print(\"Total odd numbers are\",odd)"
   ]
  },
  {
   "cell_type": "code",
   "execution_count": null,
   "metadata": {},
   "outputs": [],
   "source": []
  }
 ],
 "metadata": {
  "kernelspec": {
   "display_name": "Python 3",
   "language": "python",
   "name": "python3"
  },
  "language_info": {
   "codemirror_mode": {
    "name": "ipython",
    "version": 3
   },
   "file_extension": ".py",
   "mimetype": "text/x-python",
   "name": "python",
   "nbconvert_exporter": "python",
   "pygments_lexer": "ipython3",
   "version": "3.8.5"
  }
 },
 "nbformat": 4,
 "nbformat_minor": 4
}
