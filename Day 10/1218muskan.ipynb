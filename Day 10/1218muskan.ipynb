{
 "cells": [
  {
   "cell_type": "code",
   "execution_count": 14,
   "metadata": {},
   "outputs": [
    {
     "name": "stdout",
     "output_type": "stream",
     "text": [
      "enter two numbers: 36 60\n",
      "HCF of 36 and 60 is 12\n"
     ]
    }
   ],
   "source": [
    "#Day 10\n",
    "\n",
    "a,b=input(\"enter two numbers: \").split()\n",
    "a=int(a)\n",
    "b=int(b)\n",
    "minm=min(a,b)\n",
    "\n",
    "for i in range (minm,0,-1):\n",
    "    if(a%i==0 and b%i==0):\n",
    "        print(\"HCF of\",a,\"and\",b,\"is\",i)\n",
    "        break;\n"
   ]
  },
  {
   "cell_type": "code",
   "execution_count": null,
   "metadata": {},
   "outputs": [],
   "source": []
  }
 ],
 "metadata": {
  "kernelspec": {
   "display_name": "Python 3",
   "language": "python",
   "name": "python3"
  },
  "language_info": {
   "codemirror_mode": {
    "name": "ipython",
    "version": 3
   },
   "file_extension": ".py",
   "mimetype": "text/x-python",
   "name": "python",
   "nbconvert_exporter": "python",
   "pygments_lexer": "ipython3",
   "version": "3.8.5"
  }
 },
 "nbformat": 4,
 "nbformat_minor": 4
}
