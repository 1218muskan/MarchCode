{
 "cells": [
  {
   "cell_type": "code",
   "execution_count": 1,
   "metadata": {},
   "outputs": [
    {
     "name": "stdout",
     "output_type": "stream",
     "text": [
      "enter two numbers: 5 8 \n",
      "Before swapping: \n",
      "x= 5 \ty= 8\n",
      "Swapped values: \n",
      "x= 8 \ty= 5\n"
     ]
    }
   ],
   "source": [
    "# Day 26\n",
    "\n",
    "def swap(a,b):\n",
    "    a,b=b,a\n",
    "    print(\"Swapped values: \")\n",
    "    print(\"x=\",a,\"\\ty=\",b)\n",
    "\n",
    "    \n",
    "x,y=input(\"enter two numbers: \").split()\n",
    "print(\"Before swapping: \")\n",
    "print(\"x=\",x,\"\\ty=\",y)\n",
    "swap(int(x),int(y))"
   ]
  },
  {
   "cell_type": "code",
   "execution_count": null,
   "metadata": {},
   "outputs": [],
   "source": []
  }
 ],
 "metadata": {
  "kernelspec": {
   "display_name": "Python 3",
   "language": "python",
   "name": "python3"
  },
  "language_info": {
   "codemirror_mode": {
    "name": "ipython",
    "version": 3
   },
   "file_extension": ".py",
   "mimetype": "text/x-python",
   "name": "python",
   "nbconvert_exporter": "python",
   "pygments_lexer": "ipython3",
   "version": "3.8.5"
  }
 },
 "nbformat": 4,
 "nbformat_minor": 4
}
