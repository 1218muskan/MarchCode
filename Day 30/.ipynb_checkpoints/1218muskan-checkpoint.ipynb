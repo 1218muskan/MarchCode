{
 "cells": [
  {
   "cell_type": "code",
   "execution_count": 1,
   "metadata": {},
   "outputs": [
    {
     "name": "stdout",
     "output_type": "stream",
     "text": [
      "Enter any string: Hello, how are you?\n",
      "After capitalising first letter of each word: \n",
      " Hello, How Are You?\n"
     ]
    }
   ],
   "source": [
    "# Day 30\n",
    "\n",
    "def first_letter(s):\n",
    "    s=s.title()\n",
    "    print(\"After capitalising first letter of each word: \\n\",s)\n",
    "    \n",
    "\n",
    "s=input(\"Enter any string: \")\n",
    "first_letter(s)"
   ]
  },
  {
   "cell_type": "code",
   "execution_count": null,
   "metadata": {},
   "outputs": [],
   "source": []
  }
 ],
 "metadata": {
  "kernelspec": {
   "display_name": "Python 3",
   "language": "python",
   "name": "python3"
  },
  "language_info": {
   "codemirror_mode": {
    "name": "ipython",
    "version": 3
   },
   "file_extension": ".py",
   "mimetype": "text/x-python",
   "name": "python",
   "nbconvert_exporter": "python",
   "pygments_lexer": "ipython3",
   "version": "3.8.5"
  }
 },
 "nbformat": 4,
 "nbformat_minor": 4
}
