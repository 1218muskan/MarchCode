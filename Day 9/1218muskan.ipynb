{
 "cells": [
  {
   "cell_type": "code",
   "execution_count": 5,
   "metadata": {},
   "outputs": [
    {
     "name": "stdout",
     "output_type": "stream",
     "text": [
      "enter a number: 123456\n",
      "sum of first and last digit of number is 7\n"
     ]
    }
   ],
   "source": [
    "## Day 9\n",
    "\n",
    "n=int(input(\"enter a number: \"))\n",
    "sum=n%10      # to extract last digit of number\n",
    "\n",
    "while n!=0:\n",
    "    r=n%10\n",
    "    n=n//10\n",
    "\n",
    "sum=sum+r\n",
    "\n",
    "print(\"sum of first and last digit of number is\",sum)"
   ]
  },
  {
   "cell_type": "code",
   "execution_count": null,
   "metadata": {},
   "outputs": [],
   "source": []
  }
 ],
 "metadata": {
  "kernelspec": {
   "display_name": "Python 3",
   "language": "python",
   "name": "python3"
  },
  "language_info": {
   "codemirror_mode": {
    "name": "ipython",
    "version": 3
   },
   "file_extension": ".py",
   "mimetype": "text/x-python",
   "name": "python",
   "nbconvert_exporter": "python",
   "pygments_lexer": "ipython3",
   "version": "3.8.5"
  }
 },
 "nbformat": 4,
 "nbformat_minor": 4
}
