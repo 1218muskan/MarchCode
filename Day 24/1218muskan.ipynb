{
 "cells": [
  {
   "cell_type": "code",
   "execution_count": 1,
   "metadata": {},
   "outputs": [
    {
     "name": "stdout",
     "output_type": "stream",
     "text": [
      "enter the no. of elements: 10\n",
      "11\n",
      "3\n",
      "11\n",
      "6\n",
      "6\n",
      "6\n",
      "32\n",
      "9\n",
      "11\n",
      "3\n",
      "entered Array: \n",
      " [11, 3, 11, 6, 6, 6, 32, 9, 11, 3]\n",
      "Unique elements: \n",
      " [11, 3, 6, 32, 9]\n"
     ]
    }
   ],
   "source": [
    "## Day 24\n",
    "\n",
    "l=[]\n",
    "n=int(input(\"enter the no. of elements: \"))\n",
    "for i in range(n):\n",
    "    ele=int(input())\n",
    "    l.append(ele)\n",
    "    \n",
    "print(\"entered Array: \\n\",l)\n",
    "\n",
    "l1=[]\n",
    "for i in l:\n",
    "    if i not in l1:\n",
    "        l1.append(i)\n",
    "        \n",
    "print(\"Unique elements: \\n\",l1)"
   ]
  },
  {
   "cell_type": "code",
   "execution_count": null,
   "metadata": {},
   "outputs": [],
   "source": []
  }
 ],
 "metadata": {
  "kernelspec": {
   "display_name": "Python 3",
   "language": "python",
   "name": "python3"
  },
  "language_info": {
   "codemirror_mode": {
    "name": "ipython",
    "version": 3
   },
   "file_extension": ".py",
   "mimetype": "text/x-python",
   "name": "python",
   "nbconvert_exporter": "python",
   "pygments_lexer": "ipython3",
   "version": "3.8.5"
  }
 },
 "nbformat": 4,
 "nbformat_minor": 4
}
